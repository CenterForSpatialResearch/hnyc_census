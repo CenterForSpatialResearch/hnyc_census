{
 "cells": [
  {
   "cell_type": "code",
   "execution_count": 1,
   "id": "c6c1efa2",
   "metadata": {},
   "outputs": [],
   "source": [
    "import requests\n",
    "import json\n",
    "import pandas as pd\n",
    "import numpy as np\n",
    "import re\n",
    "\n",
    "from street_type import street_type\n",
    "from hn_split import split\n",
    "from street_direction import street_direction\n",
    "from street_name import street_name\n",
    "from street_number_name import street_number_name\n",
    "from special_cases import special_case\n",
    "\n",
    "import warnings\n",
    "warnings.filterwarnings('ignore')\n"
   ]
  },
  {
   "cell_type": "code",
   "execution_count": 2,
   "id": "df4177a1",
   "metadata": {},
   "outputs": [],
   "source": [
    "def test_street_type():\n",
    "    \n",
    "    text = 'EAST HOUSTON STREET'\n",
    "    actual = street_type(text)\n",
    "    expected = 'E HOUSTON ST'\n",
    "    \n",
    "    assert actual == expected, 'The test does not pass.'"
   ]
  },
  {
   "cell_type": "code",
   "execution_count": 3,
   "id": "ef344ab7",
   "metadata": {},
   "outputs": [],
   "source": [
    "def test_street_direction():\n",
    "        \n",
    "    text = 'EAST HOUSTON STREET'\n",
    "    actual = street_direction(text)\n",
    "    expected = 'E HOUSTON STREET'\n",
    "    \n",
    "    assert actual == expected, 'The test does not pass.'"
   ]
  },
  {
   "cell_type": "code",
   "execution_count": 4,
   "id": "0b6eef0b",
   "metadata": {},
   "outputs": [],
   "source": [
    "def test_hn_split():\n",
    "    \n",
    "    text = '310 EAST HOUSTON ST'\n",
    "    actual = split(text)\n",
    "    expected = 'EAST HOUSTON ST'\n",
    "    \n",
    "    assert actual == expected, 'The test does not pass.'\n"
   ]
  },
  {
   "cell_type": "code",
   "execution_count": 5,
   "id": "4f06d6bf",
   "metadata": {},
   "outputs": [],
   "source": [
    "def test_street_name():\n",
    "        \n",
    "    text = 'BATTIE AVE'\n",
    "    actual = street_name(text)\n",
    "    expected = 'BALTIC AVE'\n",
    "    \n",
    "    assert actual == expected, 'The test does not pass.'"
   ]
  },
  {
   "cell_type": "code",
   "execution_count": 6,
   "id": "1c8d4ae8",
   "metadata": {},
   "outputs": [],
   "source": [
    "def test_street_number_name():\n",
    "        \n",
    "    text = 'E FOURTEENTH STREET'\n",
    "    actual = street_number_name(text)\n",
    "    expected = 'E 14 STREET'\n",
    "    \n",
    "    assert actual == expected, 'The test does not pass.'"
   ]
  },
  {
   "cell_type": "code",
   "execution_count": 7,
   "id": "c857dab3",
   "metadata": {},
   "outputs": [],
   "source": [
    "def test_special_case():\n",
    "    \n",
    "    text = '18 W ST'\n",
    "    actual = special_case(text)\n",
    "    expected = 'W 18 ST'\n",
    "    \n",
    "    assert actual == expected, 'The test does not pass.'"
   ]
  },
  {
   "cell_type": "code",
   "execution_count": null,
   "id": "b640e12e",
   "metadata": {},
   "outputs": [],
   "source": []
  }
 ],
 "metadata": {
  "kernelspec": {
   "display_name": "Python 3 (ipykernel)",
   "language": "python",
   "name": "python3"
  },
  "language_info": {
   "codemirror_mode": {
    "name": "ipython",
    "version": 3
   },
   "file_extension": ".py",
   "mimetype": "text/x-python",
   "name": "python",
   "nbconvert_exporter": "python",
   "pygments_lexer": "ipython3",
   "version": "3.10.8"
  }
 },
 "nbformat": 4,
 "nbformat_minor": 5
}
