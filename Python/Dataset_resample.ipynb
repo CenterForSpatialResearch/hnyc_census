{
 "cells": [
  {
   "cell_type": "code",
   "execution_count": 1,
   "id": "dba78d03",
   "metadata": {},
   "outputs": [],
   "source": [
    "import pandas as pd\n",
    "import numpy as np\n",
    "import warnings\n",
    "warnings.filterwarnings('ignore')"
   ]
  },
  {
   "cell_type": "code",
   "execution_count": 2,
   "id": "05cb8005",
   "metadata": {},
   "outputs": [],
   "source": [
    "bk_1880 = pd.read_csv('census_1880_h_bk.csv')"
   ]
  },
  {
   "cell_type": "code",
   "execution_count": 3,
   "id": "9516f4b4",
   "metadata": {},
   "outputs": [],
   "source": [
    "bk_1880_small = bk_1880.sample(n = 2000, random_state = 123, axis = 0)"
   ]
  },
  {
   "cell_type": "code",
   "execution_count": 5,
   "id": "072e3656",
   "metadata": {},
   "outputs": [],
   "source": [
    "bk_1880_small.to_csv('bk_1880_small.csv')"
   ]
  },
  {
   "cell_type": "code",
   "execution_count": null,
   "id": "71bf24a4",
   "metadata": {},
   "outputs": [],
   "source": []
  },
  {
   "cell_type": "code",
   "execution_count": 7,
   "id": "9ceca21d",
   "metadata": {},
   "outputs": [],
   "source": [
    "census_1910_mn = pd.read_csv('census_1910_h_mn.csv')\n",
    "census_1910_mn_small = census_1910_mn.sample(n = 100, random_state = 123, axis = 0)"
   ]
  },
  {
   "cell_type": "code",
   "execution_count": 8,
   "id": "719e8b76",
   "metadata": {},
   "outputs": [],
   "source": [
    "census_1910_mn_small.to_csv('census_1910_mn_small.csv')"
   ]
  },
  {
   "cell_type": "code",
   "execution_count": null,
   "id": "38be39b5",
   "metadata": {},
   "outputs": [],
   "source": []
  }
 ],
 "metadata": {
  "kernelspec": {
   "display_name": "Python 3 (ipykernel)",
   "language": "python",
   "name": "python3"
  },
  "language_info": {
   "codemirror_mode": {
    "name": "ipython",
    "version": 3
   },
   "file_extension": ".py",
   "mimetype": "text/x-python",
   "name": "python",
   "nbconvert_exporter": "python",
   "pygments_lexer": "ipython3",
   "version": "3.9.7"
  }
 },
 "nbformat": 4,
 "nbformat_minor": 5
}
