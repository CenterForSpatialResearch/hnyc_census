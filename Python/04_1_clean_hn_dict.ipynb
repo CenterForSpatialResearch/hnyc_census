{
 "cells": [
  {
   "cell_type": "code",
   "execution_count": null,
   "id": "3225b0ea",
   "metadata": {},
   "outputs": [],
   "source": [
    "#import the packages that needed\n",
    "import pandas as pd\n",
    "import numpy as np\n",
    "import re\n",
    "import warnings\n",
    "warnings.filterwarnings('ignore')"
   ]
  },
  {
   "cell_type": "code",
   "execution_count": null,
   "id": "645a99c3",
   "metadata": {},
   "outputs": [],
   "source": [
    "def clean_hn_dict(hn_dict):\n",
    "    \n",
    "    def fix_order(x):\n",
    "        if x == \"NA?NA\":\n",
    "            return \" \"\n",
    "    \n",
    "    hn_dict.ED = hn_dict.ED.rjust(4, \"0\")\n",
    "    \n",
    "    hn_dict_new = hn_dict[['ED', 'Name', 'Left_Low', 'Left_High', 'Right_Low', 'Right_High']]\n",
    "    hn_dict_new['Left'] = hn_dict_new[['Left_Low', 'Left_High']].agg('?'.join, axis=1)\n",
    "    # hn_dict_new[\"Left\"] = hn_dict_new[\"Left_Low\"].str.cat(hn_dict_new[\"Left_High\"], sep = \"?\")\n",
    "    \n",
    "    hn_dict_new['Right'] = hn_dict_new[['Right_Low', 'Right_High']].agg('?'.join, axis=1)\n",
    "    # hn_dict_new[\"Right\"] = hn_dict_new[\"Right_Low\"].str.cat(hn_dict_new[\"Right_High\"], sep = \"?\")\n",
    "    \n",
    "    hn_dict_new.sort_values(by=['Left', 'Right'])\n",
    "    hn_dict_new = pd.melt(hn_dict_new, id_vars = ['ED', 'Name'], value_vars = ['Left', 'Right'])\n",
    "    hn_dict_new['Low', 'High'] = hn_dict_new[['Left', 'Right']].str.split('?')\n",
    "    hn_dict_new.Low = hn_dict_new.Low.astype(int)\n",
    "    hn_dict_new.High = hn_dict_new.Hig.astype(int)\n",
    "    \n",
    "    return hn_dict"
   ]
  },
  {
   "cell_type": "code",
   "execution_count": null,
   "id": "1eb591da",
   "metadata": {},
   "outputs": [],
   "source": [
    "clean_hn_dict <- function(hn_dict) {\n",
    "\n",
    "  fix_order <- function(str) {\n",
    "    if (str == \"NA?NA\") {return (NA_character_)}\n",
    "    \n",
    "  str_split(str, \"\\\\?\") %>% \n",
    "      unlist() %>% \n",
    "      as.integer() %>%\n",
    "      sort() %>% \n",
    "      str_c(collapse = \"?\")\n",
    "  }\n",
    "  \n",
    "  hn_dict <- hn_dict %>%\n",
    "    mutate(ED = str_pad(ED, 4, \"left\", pad = \"0\")) %>%\n",
    "    select(ED, Name, Left_Low, Left_High, Right_Low, Right_High) %>%\n",
    "    unite(col = \"Left\", Left_Low, Left_High, sep = \"?\") %>% \n",
    "    unite(col = \"Right\", Right_Low, Right_High, sep = \"?\") %>%\n",
    "    rowwise() %>%\n",
    "    mutate(Left = fix_order(Left), Right = fix_order(Right)) %>%\n",
    "    ungroup() %>%\n",
    "    gather(key = \"column\", value = \"value\", -c(ED, Name)) %>% \n",
    "    separate(col = value, into = c(\"Low\", \"High\"), sep = \"\\\\?\") %>%\n",
    "    mutate(Low = as.integer(Low), High = as.integer(High))\n",
    "}"
   ]
  }
 ],
 "metadata": {
  "kernelspec": {
   "display_name": "Python 3 (ipykernel)",
   "language": "python",
   "name": "python3"
  },
  "language_info": {
   "codemirror_mode": {
    "name": "ipython",
    "version": 3
   },
   "file_extension": ".py",
   "mimetype": "text/x-python",
   "name": "python",
   "nbconvert_exporter": "python",
   "pygments_lexer": "ipython3",
   "version": "3.9.7"
  }
 },
 "nbformat": 4,
 "nbformat_minor": 5
}
