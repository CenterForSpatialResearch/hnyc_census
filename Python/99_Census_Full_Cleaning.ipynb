{
 "cells": [
  {
   "cell_type": "code",
   "execution_count": null,
   "id": "6a8fbd10",
   "metadata": {},
   "outputs": [],
   "source": [
    "import numpy as np\n",
    "import pandas as pd\n",
    "import matplotlib.pyplot as plt\n",
    "import warnings\n",
    "\n",
    "warnings.filterwarnings('ignore')"
   ]
  },
  {
   "cell_type": "code",
   "execution_count": null,
   "id": "2906b888",
   "metadata": {},
   "outputs": [],
   "source": []
  },
  {
   "cell_type": "code",
   "execution_count": null,
   "id": "40297699",
   "metadata": {},
   "outputs": [],
   "source": [
    "# Importing libraries into libPath, as Columbia HPC does not allow installation of\n",
    "# packages into their storage space. COMMENT OUT if running on local computer.\n",
    ".libPaths(\"../../../census/rpackages\")\n",
    ".libPaths() # To check if appending was successful\n",
    "\n",
    "# Import all packages\n",
    "library(hunspell)\n",
    "library(tidyverse)\n",
    "library(fuzzyjoin)\n",
    "source(\"01_Street_Clean_Function_MNBK.R\")\n",
    "source(\"02_Street_Matching_MNBK.R\")\n",
    "source(\"03_Matched_Street_Fill_Down.R\")\n",
    "source(\"04_1_clean_hn_dict.R\")\n",
    "source(\"04_house_clean.R\")\n",
    "source(\"05_House_Number_Fill_Down.R\")\n",
    "source(\"06_Address_builder.R\")\n",
    "\n",
    "# Set up to run for BK 1910 Census EDIT FOR EACH NEW RUN - edited 20210302 BK\n",
    "# Import data\n",
    "# Street Dictionary EDIT TO TOGGLE MN OR BK DICTS\n",
    "edict <- read_csv(\"https://raw.githubusercontent.com/CenterForSpatialResearch/hnyc_street_dictionary/master/StreetsALL/Data/geo_dict_1910_mn.csv\")\n",
    "hn_dict <- read_csv(\"https://raw.githubusercontent.com/CenterForSpatialResearch/hnyc_census/master/Street_Dict/combine_mn.csv\") %>%\n",
    "  select(Left_Low = y1910Left_Low,\n",
    "         Left_High = y1910Left_High,\n",
    "         Right_Low = y1910Right_Low,\n",
    "         Right_High = y1910Right_High,\n",
    "         everything()) %>%\n",
    "  clean_hn_dict()\n",
    "#Census Data EDIT INPUT CSV TO TOGGLE MN OR BK INPUT\n",
    "census_data <- read_csv(\"../Data/input/census_1910_h_mn.csv\")\n",
    "\n",
    "# Running all functions\n",
    "output <- street_match(census_data, edict) %>%\n",
    "  fillDownStreet(.) %>%\n",
    "  house_clean(., edict, hn_dict) %>%\n",
    "  fillDownHouseNum(.) %>%\n",
    "  street_type_builder(.) %>%\n",
    "  build_Address(.)\n",
    "\n",
    "# Writing Output to CSV, COMMENT OUT if not needed EDIT to reflect MN BK and VERSION\n",
    "write_csv(output, \"../Data/output/output_mn_20210302.csv\")\n"
   ]
  }
 ],
 "metadata": {
  "kernelspec": {
   "display_name": "Python 3 (ipykernel)",
   "language": "python",
   "name": "python3"
  },
  "language_info": {
   "codemirror_mode": {
    "name": "ipython",
    "version": 3
   },
   "file_extension": ".py",
   "mimetype": "text/x-python",
   "name": "python",
   "nbconvert_exporter": "python",
   "pygments_lexer": "ipython3",
   "version": "3.9.7"
  }
 },
 "nbformat": 4,
 "nbformat_minor": 5
}
