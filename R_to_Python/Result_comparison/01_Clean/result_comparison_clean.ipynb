{
 "cells": [
  {
   "cell_type": "code",
   "execution_count": 1,
   "id": "6888adf4",
   "metadata": {},
   "outputs": [],
   "source": [
    "import pandas as pd\n",
    "import numpy as np\n",
    "import warnings\n",
    "warnings.filterwarnings('ignore')"
   ]
  },
  {
   "cell_type": "code",
   "execution_count": 2,
   "id": "20054f3f",
   "metadata": {},
   "outputs": [],
   "source": [
    "r_clean = pd.read_csv('census_1910_mn_small_clean_R.csv')\n",
    "\n",
    "python_clean = pd.read_csv('census_1910_mn_small_clean_Python.csv')\n"
   ]
  },
  {
   "cell_type": "code",
   "execution_count": 3,
   "id": "2fb84271",
   "metadata": {
    "scrolled": false
   },
   "outputs": [
    {
     "data": {
      "text/plain": [
       "0                  38\n",
       "1            EAST 107\n",
       "2                  81\n",
       "3            EAST 117\n",
       "4             WEST 62\n",
       "            ...      \n",
       "1995         WEST 158\n",
       "1996             E 78\n",
       "1997            8 AVE\n",
       "1998    LEXINGTON AVE\n",
       "1999         E 609 14\n",
       "Name: new_column_R, Length: 2000, dtype: object"
      ]
     },
     "execution_count": 3,
     "metadata": {},
     "output_type": "execute_result"
    }
   ],
   "source": [
    "r_clean.new_column_R"
   ]
  },
  {
   "cell_type": "code",
   "execution_count": 4,
   "id": "50d97166",
   "metadata": {},
   "outputs": [
    {
     "data": {
      "text/plain": [
       "0                  38\n",
       "1            EAST 107\n",
       "2                  81\n",
       "3            EAST 117\n",
       "4             WEST 62\n",
       "            ...      \n",
       "1995         WEST 158\n",
       "1996             E 78\n",
       "1997            8 AVE\n",
       "1998    LEXINGTON AVE\n",
       "1999         E 609 14\n",
       "Name: new, Length: 2000, dtype: object"
      ]
     },
     "execution_count": 4,
     "metadata": {},
     "output_type": "execute_result"
    }
   ],
   "source": [
    "python_clean.new"
   ]
  },
  {
   "cell_type": "code",
   "execution_count": 5,
   "id": "ccd9e34a",
   "metadata": {},
   "outputs": [
    {
     "data": {
      "text/plain": [
       "0       True\n",
       "1       True\n",
       "2       True\n",
       "3       True\n",
       "4       True\n",
       "        ... \n",
       "1995    True\n",
       "1996    True\n",
       "1997    True\n",
       "1998    True\n",
       "1999    True\n",
       "Length: 2000, dtype: bool"
      ]
     },
     "execution_count": 5,
     "metadata": {},
     "output_type": "execute_result"
    }
   ],
   "source": [
    "r_clean.new_column_R == python_clean.new"
   ]
  },
  {
   "cell_type": "code",
   "execution_count": 6,
   "id": "0e9af83b",
   "metadata": {},
   "outputs": [
    {
     "data": {
      "text/plain": [
       "0       True\n",
       "1       True\n",
       "2       True\n",
       "3       True\n",
       "4       True\n",
       "        ... \n",
       "1995    True\n",
       "1996    True\n",
       "1997    True\n",
       "1998    True\n",
       "1999    True\n",
       "Length: 2000, dtype: bool"
      ]
     },
     "execution_count": 6,
     "metadata": {},
     "output_type": "execute_result"
    }
   ],
   "source": [
    "\n",
    "i = r_clean.new_column_R == python_clean.new\n",
    "i"
   ]
  },
  {
   "cell_type": "code",
   "execution_count": 7,
   "id": "548ea0be",
   "metadata": {},
   "outputs": [
    {
     "data": {
      "text/plain": [
       "1811"
      ]
     },
     "execution_count": 7,
     "metadata": {},
     "output_type": "execute_result"
    }
   ],
   "source": [
    "i.sum()"
   ]
  },
  {
   "cell_type": "code",
   "execution_count": 8,
   "id": "2f345bf0",
   "metadata": {},
   "outputs": [],
   "source": [
    "identical_rate = 1811 / 2000"
   ]
  },
  {
   "cell_type": "code",
   "execution_count": 9,
   "id": "1db368c7",
   "metadata": {},
   "outputs": [
    {
     "data": {
      "text/plain": [
       "0.9055"
      ]
     },
     "execution_count": 9,
     "metadata": {},
     "output_type": "execute_result"
    }
   ],
   "source": [
    "identical_rate"
   ]
  },
  {
   "cell_type": "code",
   "execution_count": null,
   "id": "0f3503e7",
   "metadata": {},
   "outputs": [],
   "source": []
  }
 ],
 "metadata": {
  "kernelspec": {
   "display_name": "Python 3 (ipykernel)",
   "language": "python",
   "name": "python3"
  },
  "language_info": {
   "codemirror_mode": {
    "name": "ipython",
    "version": 3
   },
   "file_extension": ".py",
   "mimetype": "text/x-python",
   "name": "python",
   "nbconvert_exporter": "python",
   "pygments_lexer": "ipython3",
   "version": "3.9.7"
  }
 },
 "nbformat": 4,
 "nbformat_minor": 5
}
