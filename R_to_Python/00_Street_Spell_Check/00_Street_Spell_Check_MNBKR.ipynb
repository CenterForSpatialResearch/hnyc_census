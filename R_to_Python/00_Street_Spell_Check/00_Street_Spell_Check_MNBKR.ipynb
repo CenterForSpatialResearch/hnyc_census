{
 "cells": [
  {
   "cell_type": "code",
   "execution_count": 5,
   "id": "e7ede830",
   "metadata": {},
   "outputs": [],
   "source": [
    "#import the packages that needed\n",
    "import pandas as pd\n",
    "import numpy as np\n",
    "import re\n",
    "from textblob import TextBlob\n",
    "import warnings\n",
    "warnings.filterwarnings('ignore')"
   ]
  },
  {
   "cell_type": "code",
   "execution_count": 6,
   "id": "f77d7f52",
   "metadata": {},
   "outputs": [],
   "source": [
    "# rawData = pd.read_csv(\"...\")\n",
    "\n",
    "def checkSpelling(rawData, column):\n",
    "    \n",
    "    distinctStreetNames = rawData[column].unique()\n",
    "    rawData['misspeltStreets'] = rawData[column].apply(lambda x: ''.join(TextBlob(str(x)).correct()))\n",
    "    misspeltStreets = rawData['misspeltStreets'].unique()\n",
    "    diff = distinctStreetNames == misspeltStreets\n",
    "    count = 0\n",
    "    for i in diff:\n",
    "        if i == False:\n",
    "            count += 1\n",
    "    \n",
    "    return distinctStreetNames, count\n"
   ]
  },
  {
   "cell_type": "code",
   "execution_count": 7,
   "id": "34f0ed1c",
   "metadata": {},
   "outputs": [
    {
     "data": {
      "text/plain": [
       "Index(['Unnamed: 0', 'Record type', 'Standardized township (string)',\n",
       "       'County 2', 'Enumeration district 2',\n",
       "       'Consistent historical data person identifier',\n",
       "       'Dwelling sequence number', 'Dwelling serial number',\n",
       "       'Dwelling serial number 2', 'Household sequence within dwelling',\n",
       "       'Household sequence within dwelling, 8 digit',\n",
       "       'Household serial number 2',\n",
       "       'Household serial number, before large group quarters were split up (100% datasets)',\n",
       "       'Individual sequence number',\n",
       "       'Large group quarters that was split up (100% datasets)', 'Line number',\n",
       "       'Line number 2', 'Microfilm page number',\n",
       "       'Number of families in household',\n",
       "       'Number of person records in household, before large group quarters were split up  (100% datasets)',\n",
       "       'House number', 'Street address 2'],\n",
       "      dtype='object')"
      ]
     },
     "execution_count": 7,
     "metadata": {},
     "output_type": "execute_result"
    }
   ],
   "source": [
    "df = pd.read_csv(\"census_1910_mn_small.csv\")\n",
    "df.columns"
   ]
  },
  {
   "cell_type": "code",
   "execution_count": 8,
   "id": "d67aad2d",
   "metadata": {
    "scrolled": true
   },
   "outputs": [],
   "source": [
    "a = checkSpelling(df, 'Street address 2')"
   ]
  },
  {
   "cell_type": "code",
   "execution_count": 10,
   "id": "ae4c2f1e",
   "metadata": {},
   "outputs": [
    {
     "data": {
      "text/plain": [
       "array(['WEST 2ND', 'EAST 8TH STREET', 'ATTORNEY STREET', 'EAST 95 ST',\n",
       "       'WEST 60TH STREET', 'MULBERRY STREET', 'EAST 122D STREET',\n",
       "       'BOWERY', 'WEST 109 STREET', 'WEST 144TH STREET',\n",
       "       'BLACKWELLS ISLAND', '82ND STREET', 'WEST 97 STREET', nan,\n",
       "       'ONE HUNDRED AND SEVEN STREET', 'EAST NINTH ST', 'SUFFOLK ST',\n",
       "       'EAST SEVENTY FOURTH STREET', 'WORTH MORRS STREET',\n",
       "       'WEST 100TH STREET', 'E 111 ST', 'W BROADWAY', 'WEST 148TH STREET',\n",
       "       'WEST SIDE OF AMSTERDAM AVENUE', '123 ST', 'WEST 8TH STREET',\n",
       "       'SECOND AVE', '1ST AVENUE', 'E 9TH ST',\n",
       "       'TOOT WEST 11TH STAT STEWER EEL V', 'NINTH AVENUE',\n",
       "       'ELDREDGE STREET', 'NINETY SIX STREET EAST', 'MADISON STREET',\n",
       "       'WORDEN AVE', 'COLUMBIA STREET', 'EAST 78TH STREET', 'EAST 17',\n",
       "       'E93 ST', 'BAXTER ST', 'THOMPSON STREET', '29TH STREET',\n",
       "       'EAST 67TH STREET', 'W146 ST', '7TH STREET', 'EAST 114 STREET',\n",
       "       'EAST 5TH ST', '68 STREET BETWEEN LEXINGTON & TH',\n",
       "       'WEST 135 STREET', 'LEXINGTON AVENUE', 'EAST 118TH STREET',\n",
       "       'EAST 100 STREET', 'EAST 88 ST', 'MANHATTAN AVE', 'CORTLANDT ST',\n",
       "       'ELDRIDGE', 'WEST 131TH STREET(SO SIDE)', 'W 138 ST',\n",
       "       'WEST 136 ST', 'LEWIS ST', 'AVENUE M', '93RD ST WEST',\n",
       "       'MACDOUGAL STREET', 'W 45TH ST', 'LUDLOW STREET',\n",
       "       'EAST 127 STREET', 'EAST ONE HUNDRED TWENTY FIRST ST', 'W123',\n",
       "       'EAST 84TH STREET', '10 AVE', 'BLEEKER STREET', 'NINTH STREET',\n",
       "       'EAST 32D ST', 'WEST 23 STREET', 'EAST FIFTEENTH STREET',\n",
       "       'WEST 39 ST', 'RIVERSIDE DRIVE', '63ND ST', 'MOTT STREET',\n",
       "       'EAST 81ST STREET', '34TH STREET', 'FIRST AVENUE',\n",
       "       'RIVINGTON STREET', 'WEST 151 ST', '45TH STREET',\n",
       "       'WEST 112 STREET', 'WEST 21ST ST', '211-13 AVE A', 'WEST 43RD ST',\n",
       "       '10TH AVE', 'WEST 73D STREET'], dtype=object)"
      ]
     },
     "execution_count": 10,
     "metadata": {},
     "output_type": "execute_result"
    }
   ],
   "source": [
    "a[0]"
   ]
  },
  {
   "cell_type": "code",
   "execution_count": 11,
   "id": "3f7d4dd4",
   "metadata": {},
   "outputs": [
    {
     "data": {
      "text/plain": [
       "28"
      ]
     },
     "execution_count": 11,
     "metadata": {},
     "output_type": "execute_result"
    }
   ],
   "source": [
    "a[1]"
   ]
  },
  {
   "cell_type": "code",
   "execution_count": null,
   "id": "81b060dd",
   "metadata": {},
   "outputs": [],
   "source": []
  }
 ],
 "metadata": {
  "kernelspec": {
   "display_name": "Python 3 (ipykernel)",
   "language": "python",
   "name": "python3"
  },
  "language_info": {
   "codemirror_mode": {
    "name": "ipython",
    "version": 3
   },
   "file_extension": ".py",
   "mimetype": "text/x-python",
   "name": "python",
   "nbconvert_exporter": "python",
   "pygments_lexer": "ipython3",
   "version": "3.9.7"
  }
 },
 "nbformat": 4,
 "nbformat_minor": 5
}
